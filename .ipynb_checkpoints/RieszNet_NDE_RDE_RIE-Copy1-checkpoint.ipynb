{
 "cells": [
  {
   "cell_type": "code",
   "execution_count": 95,
   "metadata": {
    "id": "YGTyAt_EnxBS"
   },
   "outputs": [
    {
     "name": "stdout",
     "output_type": "stream",
     "text": [
      "The autoreload extension is already loaded. To reload it, use:\n",
      "  %reload_ext autoreload\n"
     ]
    }
   ],
   "source": [
    "%load_ext autoreload\n",
    "%autoreload 2\n",
    "%matplotlib inline"
   ]
  },
  {
   "cell_type": "code",
   "execution_count": 56,
   "metadata": {
    "colab": {
     "base_uri": "https://localhost:8080/"
    },
    "id": "lultJh2JpO6R",
    "outputId": "2decc02b-a959-4119-d978-7eb9263a7888"
   },
   "outputs": [],
   "source": [
    "# from google.colab import drive\n",
    "\n",
    "# drive.mount(\"/content/drive\")\n",
    "\n",
    "# %cd \"/content/drive/MyDrive/Ivan_Diaz/RieszLearning-main\"\n",
    "# # %pwd\n",
    "# # from pycox.models import LogisticHazard"
   ]
  },
  {
   "cell_type": "markdown",
   "metadata": {
    "id": "DjE4sqJ8nxBW"
   },
   "source": [
    "# Randomized Interventional Effects"
   ]
  },
  {
   "cell_type": "markdown",
   "metadata": {
    "id": "CumqS__UdZQj"
   },
   "source": [
    "## Library Imports"
   ]
  },
  {
   "cell_type": "code",
   "execution_count": 96,
   "metadata": {
    "id": "Tb0UNXId8Sbh"
   },
   "outputs": [],
   "source": [
    "from pathlib import Path\n",
    "import os\n",
    "import glob\n",
    "from joblib import dump, load\n",
    "import pandas as pd\n",
    "import scipy\n",
    "import scipy.stats\n",
    "import scipy.special\n",
    "import torch\n",
    "import torch.nn as nn\n",
    "import math\n",
    "import numpy as np\n",
    "import matplotlib.pyplot as plt\n",
    "from sklearn.preprocessing import StandardScaler\n",
    "from sklearn.linear_model import LinearRegression\n",
    "from sklearn.model_selection import train_test_split\n",
    "from utils.riesznet import RieszNet, RieszNetNDE, RieszNetRDERIE\n",
    "# from utils.moments import ate_moment_fn\n",
    "from utils.moments import nde_theta1_moment_fn, nde_theta2_moment_fn\n",
    "from utils.moments import rde_rie_theta3_moment_fn, rde_rie_theta2_moment_fn, rde_rie_theta1_moment_fn\n",
    "# from utils.ihdp_data import *\n",
    "from scipy.spatial import distance_matrix\n",
    "from cvxopt import spmatrix, matrix\n",
    "from cvxopt import solvers"
   ]
  },
  {
   "cell_type": "markdown",
   "metadata": {
    "id": "Q3t1tL81nxBZ"
   },
   "source": [
    "## Moment Definition"
   ]
  },
  {
   "cell_type": "code",
   "execution_count": 97,
   "metadata": {
    "id": "8UaNl8TVnxBa"
   },
   "outputs": [],
   "source": [
    "moment_fn_1 = rde_rie_theta1_moment_fn\n",
    "moment_fn_2 = rde_rie_theta2_moment_fn\n",
    "moment_fn_3 = rde_rie_theta3_moment_fn\n",
    "# moment_fn = ate_moment_fn"
   ]
  },
  {
   "cell_type": "code",
   "execution_count": 98,
   "metadata": {},
   "outputs": [],
   "source": [
    "N = 2000\n",
    "\n",
    "#W_1 = scipy.stats.norm.rvs(loc = 0, scale = 1, size = N)\n",
    "W_2 = scipy.stats.bernoulli.rvs(0.5, size = N)\n",
    "#W_3 = scipy.stats.uniform.rvs(loc = 0, scale = 1, size = N)\n",
    "\n",
    "#prob_A = scipy.special.expit(-1 + W_1 / 3 + W_2 / 4)\n",
    "prob_A = scipy.special.expit(-0.25 + W_2 / 4)\n",
    "A = scipy.stats.bernoulli.rvs(prob_A, size = N)\n",
    "\n",
    "prob_Z = scipy.special.expit(-0.25 + A / 2)\n",
    "Z = scipy.stats.bernoulli.rvs(prob_Z, size = N)\n",
    "\n",
    "prob_M = scipy.special.expit(-0.25 + A / 2 - Z / 2 + W_2 / 4)\n",
    "M = scipy.stats.bernoulli.rvs(prob_M, size = N)\n",
    "\n",
    "#prob_Y = scipy.special.expit(-1 + M / 2 + A / 4 - Z / 2 + W_1 / 4 - W_3 / 4)\n",
    "prob_Y = scipy.special.expit(-0.25 + M / 2 + A / 4 - Z / 2 + W_2 / 4)\n",
    "Y = scipy.stats.bernoulli.rvs(prob_Y, size = N)\n",
    "\n",
    "#data_batch_1 = pd.DataFrame(data = {\"W_1\": W_1, \"W_2\": W_2, \"W_3\": W_3, \"A\": A, \"Z\": Z, \"M\": M, \"Y\": Y})\n",
    "data_batch_1 = pd.DataFrame(data = {\"W_2\": W_2, \"A\": A, \"Z\": Z, \"M\": M, \"Y\": Y})"
   ]
  },
  {
   "cell_type": "markdown",
   "metadata": {
    "id": "ytutDbXdY6ch"
   },
   "source": [
    "### Estimator Settings"
   ]
  },
  {
   "cell_type": "code",
   "execution_count": 100,
   "metadata": {
    "colab": {
     "base_uri": "https://localhost:8080/"
    },
    "id": "Xzye0tURZ4Mc",
    "outputId": "b581a157-07da-41d4-f6b7-cb396bc34d76"
   },
   "outputs": [
    {
     "name": "stdout",
     "output_type": "stream",
     "text": [
      "GPU: False\n"
     ]
    }
   ],
   "source": [
    "drop_prob = 0.0  # dropout prob of dropout layers throughout notebook\n",
    "n_hidden = 100  # width of hidden layers throughout notebook\n",
    "\n",
    "# Training params\n",
    "learner_lr = 1e-5\n",
    "learner_l2 = 1e-3\n",
    "learner_l1 = 0.0\n",
    "n_epochs = 600\n",
    "earlystop_rounds = 40 # how many epochs to wait for an out-of-sample improvement\n",
    "earlystop_delta = 1e-4\n",
    "target_reg_1 = 1\n",
    "target_reg_2 = 1\n",
    "target_reg_3 = 1\n",
    "riesz_weight_1 = 1\n",
    "riesz_weight_2 = 0\n",
    "riesz_weight_3 = 0\n",
    "\n",
    "bs = 32\n",
    "device = torch.cuda.current_device() if torch.cuda.is_available() else None\n",
    "print(\"GPU:\", torch.cuda.is_available())\n",
    "\n",
    "from itertools import chain, combinations\n",
    "from itertools import combinations_with_replacement as combinations_w_r\n",
    "\n",
    "def _combinations(n_features, degree, interaction_only):\n",
    "        comb = (combinations if interaction_only else combinations_w_r)\n",
    "        return chain.from_iterable(comb(range(n_features), i)\n",
    "                                   for i in range(0, degree + 1))\n",
    "\n",
    "class Learner(nn.Module):\n",
    "\n",
    "    def __init__(self, n_t, n_hidden, p, degree, interaction_only=False):\n",
    "        super().__init__()\n",
    "        n_common = 200\n",
    "\n",
    "        # Don't know what it is, but should be different for 1, 2 and 3\n",
    "        self.monomials1 = list(_combinations(n_t - 2, degree, interaction_only))\n",
    "        self.monomials2 = list(_combinations(n_t - 1, degree, interaction_only))\n",
    "        self.monomials3 = list(_combinations(n_t, degree, interaction_only))\n",
    "\n",
    "        # Common layers for g and alpha\n",
    "        # theta_1 and m_1 are the function of (A, W)\n",
    "        # theta_2 and m_2 are the function of (A, Z, W)\n",
    "        # theta_3 and m_3 are the function of (A, Z, M, W)\n",
    "        self.common1 = nn.Sequential(nn.Dropout(p=p), nn.Linear(n_t - 2, n_common), nn.ELU(),\n",
    "                                    nn.Dropout(p=p), nn.Linear(n_common, n_common), nn.ELU(),\n",
    "                                    nn.Dropout(p=p), nn.Linear(n_common, n_common), nn.ELU())\n",
    "        self.common2 = nn.Sequential(nn.Dropout(p=p), nn.Linear(n_t - 1, n_common), nn.ELU(),\n",
    "                                    nn.Dropout(p=p), nn.Linear(n_common, n_common), nn.ELU(),\n",
    "                                    nn.Dropout(p=p), nn.Linear(n_common, n_common), nn.ELU())\n",
    "        self.common3 = nn.Sequential(nn.Dropout(p=p), nn.Linear(n_t, n_common), nn.ELU(),\n",
    "                                    nn.Dropout(p=p), nn.Linear(n_common, n_common), nn.ELU(),\n",
    "                                    nn.Dropout(p=p), nn.Linear(n_common, n_common), nn.ELU())\n",
    "\n",
    "        # Riesz specific layers\n",
    "        # alpha_1 is related to theta_1 and m_1\n",
    "        # alpha_2 is related to theta_2 and m_2\n",
    "        # alpha_3 is related to theta_3 and m_3\n",
    "        self.riesz_nn1 = nn.Sequential(nn.Dropout(p=p), nn.Linear(n_common, 1))\n",
    "        self.riesz_poly1 = nn.Sequential(nn.Linear(len(self.monomials1), 1))\n",
    "        self.riesz_nn2 = nn.Sequential(nn.Dropout(p=p), nn.Linear(n_common, 1))\n",
    "        self.riesz_poly2 = nn.Sequential(nn.Linear(len(self.monomials2), 1))\n",
    "        self.riesz_nn3 = nn.Sequential(nn.Dropout(p=p), nn.Linear(n_common, 1))\n",
    "        self.riesz_poly3 = nn.Sequential(nn.Linear(len(self.monomials3), 1))\n",
    "\n",
    "        # Regression loss layers\n",
    "        # Indexes are the same as Riesz specific layers\n",
    "        self.reg_nn0_1 = nn.Sequential(nn.Dropout(p=p), nn.Linear(n_common, n_hidden), nn.ELU(),\n",
    "                                    nn.Dropout(p=p), nn.Linear(n_hidden, n_hidden), nn.ELU(),\n",
    "                                    nn.Dropout(p=p), nn.Linear(n_hidden, 1))\n",
    "        self.reg_nn1_1 = nn.Sequential(nn.Dropout(p=p), nn.Linear(n_common, n_hidden), nn.ELU(),\n",
    "                                    nn.Dropout(p=p), nn.Linear(n_hidden, n_hidden), nn.ELU(),\n",
    "                                    nn.Dropout(p=p), nn.Linear(n_hidden, 1))\n",
    "        self.reg_nn0_2 = nn.Sequential(nn.Dropout(p=p), nn.Linear(n_common, n_hidden), nn.ELU(),\n",
    "                                    nn.Dropout(p=p), nn.Linear(n_hidden, n_hidden), nn.ELU(),\n",
    "                                    nn.Dropout(p=p), nn.Linear(n_hidden, 1))\n",
    "        self.reg_nn1_2 = nn.Sequential(nn.Dropout(p=p), nn.Linear(n_common, n_hidden), nn.ELU(),\n",
    "                                    nn.Dropout(p=p), nn.Linear(n_hidden, n_hidden), nn.ELU(),\n",
    "                                    nn.Dropout(p=p), nn.Linear(n_hidden, 1))\n",
    "        self.reg_nn0_3 = nn.Sequential(nn.Dropout(p=p), nn.Linear(n_common, n_hidden), nn.ELU(),\n",
    "                                    nn.Dropout(p=p), nn.Linear(n_hidden, n_hidden), nn.ELU(),\n",
    "                                    nn.Dropout(p=p), nn.Linear(n_hidden, 1))\n",
    "        self.reg_nn1_3 = nn.Sequential(nn.Dropout(p=p), nn.Linear(n_common, n_hidden), nn.ELU(),\n",
    "                                    nn.Dropout(p=p), nn.Linear(n_hidden, n_hidden), nn.ELU(),\n",
    "                                    nn.Dropout(p=p), nn.Linear(n_hidden, 1))\n",
    "\n",
    "        # Don't know what it is, but should be different for 1 and 2\n",
    "        self.reg_poly1 = nn.Sequential(nn.Linear(len(self.monomials1), 1))\n",
    "        self.reg_poly2 = nn.Sequential(nn.Linear(len(self.monomials2), 1))\n",
    "        self.reg_poly3 = nn.Sequential(nn.Linear(len(self.monomials3), 1))\n",
    "\n",
    "\n",
    "    def forward(self, x):\n",
    "        # Create a new dataset x1, which is (A, W), used for theta_1 and m_1\n",
    "        # Create a new dataset x2, which is (A, Z, W), used for theta_2 and m_2\n",
    "        # Recall: we assume x = (A, Z, M, W)\n",
    "\n",
    "        if torch.is_tensor(x):\n",
    "            with torch.no_grad():\n",
    "                x1 = torch.cat([torch.reshape(x[:, 0].to(device), (-1, 1)), x[:, 3:]], dim=1)\n",
    "        else:\n",
    "            x1 = np.hstack([np.array(x[:, 0]).reshape(-1, 1), x[:, 3:]])\n",
    "        \n",
    "        if torch.is_tensor(x):\n",
    "            with torch.no_grad():\n",
    "                x2 = torch.cat([torch.reshape(x[:, [0, 1]].to(device), (-1, 2)), x[:, 3:]], dim=1)\n",
    "        else:\n",
    "            x2 = np.hstack([np.array(x[:, [0, 1]]).reshape(-1, 2), x[:, 3:]])\n",
    "\n",
    "        poly1 = torch.cat([torch.prod(x1[:, t], dim=1, keepdim=True)\n",
    "                          for t in self.monomials1], dim=1)\n",
    "        poly2 = torch.cat([torch.prod(x2[:, t], dim=1, keepdim=True)\n",
    "                          for t in self.monomials2], dim=1)\n",
    "        poly3 = torch.cat([torch.prod(x[:, t], dim=1, keepdim=True)\n",
    "                          for t in self.monomials2], dim=1)\n",
    "\n",
    "        feats1 = self.common1(x1)\n",
    "        feats2 = self.common2(x2)\n",
    "        feats3 = self.common3(x)\n",
    "\n",
    "        riesz1 = self.riesz_nn1(feats1) + self.riesz_poly1(poly1)\n",
    "        riesz2 = self.riesz_nn2(feats2) + self.riesz_poly2(poly2)\n",
    "        riesz3 = self.riesz_nn3(feats3) + self.riesz_poly3(poly3)\n",
    "\n",
    "        reg1 = self.reg_nn0_1(feats1) * (1 - x1[:, [0]]) + self.reg_nn1_1(feats1) * x1[:, [0]] + self.reg_poly1(poly1)\n",
    "        reg2 = self.reg_nn0_2(feats2) * (1 - x2[:, [0]]) + self.reg_nn1_2(feats2) * x2[:, [0]] + self.reg_poly2(poly2)\n",
    "        reg3 = self.reg_nn0_3(feats3) * (1 - x[:, [0]]) + self.reg_nn1_3(feats3) * x[:, [0]] + self.reg_poly3(poly3)\n",
    "        return torch.cat([reg1, riesz1, reg2, riesz2, reg3, riesz3], dim=1)"
   ]
  },
  {
   "cell_type": "code",
   "execution_count": 101,
   "metadata": {},
   "outputs": [],
   "source": [
    "A = np.array(data_batch_1[\"A\"])\n",
    "Z = np.array(data_batch_1[\"Z\"])\n",
    "M = np.array(data_batch_1[\"M\"])\n",
    "#W_1 = np.array(data_batch_1[\"W_1\"])\n",
    "W_2 = np.array(data_batch_1[\"W_2\"])\n",
    "#W_3 = np.array(data_batch_1[\"W_3\"])\n",
    "Y = np.array(data_batch_1[\"Y\"])"
   ]
  },
  {
   "cell_type": "code",
   "execution_count": 102,
   "metadata": {
    "id": "8kZ8x9TSrUfm"
   },
   "outputs": [],
   "source": [
    "#X = np.c_[A, Z, M, W_1, W_2, W_3]\n",
    "X = np.c_[A, Z, M, W_2]\n",
    "X_train, X_test, y_train, y_test = train_test_split(X, Y, test_size = 0.2)"
   ]
  },
  {
   "cell_type": "code",
   "execution_count": 103,
   "metadata": {
    "id": "pVUD2yBMsM6d"
   },
   "outputs": [],
   "source": [
    "torch.cuda.empty_cache()\n",
    "learner = Learner(X_train.shape[1], n_hidden, drop_prob, 0, interaction_only=True)\n",
    "agmm = RieszNetRDERIE(learner, moment_fn_1, moment_fn_2, moment_fn_3)"
   ]
  },
  {
   "cell_type": "code",
   "execution_count": 104,
   "metadata": {
    "colab": {
     "base_uri": "https://localhost:8080/"
    },
    "id": "NTEhefXkJtos",
    "outputId": "489c66ea-7597-42e5-85cb-ff4014af517a"
   },
   "outputs": [],
   "source": [
    "def permutation_matrix_cpu(data_temp):\n",
    "    # A, Z, M, W1\n",
    "    N = np.shape(data_temp)[0]\n",
    "    D = distance_matrix(data_temp[:, [0, 3]].reshape(-1, 2), data_temp[:, [0, 3]].reshape(-1, 2))  # .reshape(-1, )\n",
    "    row, col = np.triu_indices(N, 1)\n",
    "    D[row, col] = 0\n",
    "\n",
    "    D = D.reshape(-1, )\n",
    "    D = D / max(D)\n",
    "    D = matrix(D)\n",
    "\n",
    "    A2 = -np.eye(N * N)\n",
    "    b2 = np.zeros(N * N)\n",
    "\n",
    "    row_list = []\n",
    "    col_list = []\n",
    "    data_list = []\n",
    "    for i in range(N):\n",
    "        index_col_list = [i * N + j for j in range(N)]\n",
    "        col_list = col_list + index_col_list\n",
    "        row_list = row_list + [i for j in range(N)]\n",
    "        data_list = data_list + [1 for j in range(N)]\n",
    "\n",
    "    for i in range(N - 1):\n",
    "        index_col_list = [j * N + i for j in range(N)]\n",
    "        col_list = col_list + index_col_list\n",
    "        row_list = row_list + [i + N for j in range(N)]\n",
    "        data_list = data_list + [1 for j in range(N)]\n",
    "\n",
    "    index_col_list = [j * (N + 1) for j in range(N)]\n",
    "    col_list = col_list + index_col_list\n",
    "    row_list = row_list + [2 * N - 1 for j in range(N)]\n",
    "    data_list = data_list + [1 for j in range(N)]\n",
    "\n",
    "    row_list_1 = [i for i in range(N * N)]\n",
    "    row_list_2 = [i + N * N for i in row_list]\n",
    "    row_list_3 = [i + 2 * N for i in row_list_2]\n",
    "    row_list = row_list_1 + row_list_2 + row_list_3\n",
    "\n",
    "    data_list = data_list + [-i for i in data_list]\n",
    "    col_list = col_list * 2\n",
    "    data_list = [-1 for i in range(N * N)] + data_list\n",
    "    col_list = [i for i in range(N * N)] + col_list\n",
    "\n",
    "    b3 = np.ones(2 * N)\n",
    "    b3[2 * N - 1] = 0\n",
    "    b4 = -b3\n",
    "    b = matrix(b2.tolist() + b3.tolist() + b4.tolist())\n",
    "    A = spmatrix(data_list, row_list, col_list)\n",
    "\n",
    "    sol = solvers.lp(D, A, b, solver=\"glpk\")\n",
    "    P = np.array(sol['x']).reshape(N, N)\n",
    "    P[P < 10 ** (-3)] = 0\n",
    "    P[P > 1 - 10 ** (-3)] = 1\n",
    "\n",
    "    res = data_temp.copy()\n",
    "    res[:, 1] = np.matmul(P, res[:, 1])\n",
    "\n",
    "    return res\n"
   ]
  },
  {
   "cell_type": "code",
   "execution_count": 106,
   "metadata": {},
   "outputs": [],
   "source": [
    "batch_size = 32\n",
    "X_supp_test = X_test.copy()\n",
    "for i in range(int(X_test.shape[0] / batch_size)):\n",
    "    data_temp = X_test[i * batch_size:(i + 1) * batch_size,:].copy()\n",
    "    X_supp_test[i * batch_size:(i + 1) * batch_size,:] = permutation_matrix_cpu(data_temp)"
   ]
  },
  {
   "cell_type": "code",
   "execution_count": 107,
   "metadata": {},
   "outputs": [
    {
     "data": {
      "text/plain": [
       "array([[1, 1, 1, 1],\n",
       "       [0, 0, 0, 1],\n",
       "       [1, 1, 1, 0],\n",
       "       ...,\n",
       "       [0, 0, 1, 1],\n",
       "       [1, 1, 1, 0],\n",
       "       [1, 1, 0, 1]])"
      ]
     },
     "execution_count": 107,
     "metadata": {},
     "output_type": "execute_result"
    }
   ],
   "source": [
    "X_supp_test"
   ]
  },
  {
   "cell_type": "code",
   "execution_count": 108,
   "metadata": {},
   "outputs": [],
   "source": [
    "solvers.options['glpk'] = {'msg_lev' : 'GLP_MSG_OFF'}"
   ]
  },
  {
   "cell_type": "code",
   "execution_count": 109,
   "metadata": {
    "colab": {
     "base_uri": "https://localhost:8080/"
    },
    "id": "UJysorp6NSDj",
    "outputId": "bc92a407-1eee-44d1-ab99-9d9a37643d9a"
   },
   "outputs": [
    {
     "name": "stdout",
     "output_type": "stream",
     "text": [
      "Epoch #0\n",
      "Validation losses: 0.29076183 0.019168727 0.03818228 -1.7440721 -1.0493206 -0.13344301 0.03726881 0.018688187 0.2907628 -1.049239419400692\n",
      "Epoch #1\n",
      "Validation losses: 0.25330698 0.0044166856 0.004364865 -2.0675323 -1.1694912 -0.7317278 0.00426376 0.0043267133 0.2532395 -1.543613777961582\n",
      "Epoch #2\n",
      "Validation losses: 0.23654123 0.0024472962 0.00108228 -2.06976 -1.2081627 -1.2475462 0.000997234 0.0022357046 0.23660083 -1.5898555094609037\n",
      "Epoch #3\n",
      "Validation losses: 0.23448615 0.0033667036 0.00012521243 -2.0704484 -1.2085326 -1.4934449 0.00019047856 0.0021976356 0.23484106 -1.5952411498437868\n",
      "Epoch #4\n",
      "Validation losses: 0.23462833 0.0035309047 0.0006500842 -2.0678058 -1.335981 -1.4608905 0.00080076157 0.0023852377 0.23505557 -1.5907548845862038\n",
      "Epoch #5\n",
      "Validation losses: 0.2360596 0.0019012977 0.00028948212 -2.0723062 -1.2324076 -1.3631506 0.00023318056 0.0012292302 0.23677124 -1.595822114875773\n",
      "Epoch #6\n",
      "Validation losses: 0.23599358 0.0037580722 0.0013813563 -2.0644891 -1.3915727 -1.2255026 0.0016442862 0.0028469593 0.23654263 -1.5823222490726039\n",
      "Epoch #7\n",
      "Validation losses: 0.23658825 0.0015270887 0.00026019398 -2.0455122 -1.6043866 -1.1044335 0.00023806776 0.0014430155 0.23725961 -1.5681959749781527\n",
      "Epoch #8\n",
      "Validation losses: 0.23552266 0.0019751745 0.00047986952 -2.0393622 -1.5934377 -1.0083799 0.00040400054 0.0023821304 0.23611017 -1.5624881970870774\n"
     ]
    },
    {
     "data": {
      "text/plain": [
       "<utils.riesznet.RieszNetRDERIE at 0x13be6c290>"
      ]
     },
     "execution_count": 109,
     "metadata": {},
     "output_type": "execute_result"
    }
   ],
   "source": [
    "# Fast training\n",
    "agmm.fit(X_train, y_train, Xval=X_test, yval=y_test, Xval_supp = X_supp_test,\n",
    "          earlystop_rounds=2, earlystop_delta=earlystop_delta,\n",
    "          learner_lr=1e-04, learner_l2=learner_l2, learner_l1=learner_l1,\n",
    "          n_epochs=100, bs=bs, target_reg_1=target_reg_1,\n",
    "          riesz_weight_1=riesz_weight_1, target_reg_2=target_reg_2,\n",
    "          riesz_weight_2=riesz_weight_2, target_reg_3=target_reg_3,\n",
    "          riesz_weight_3=riesz_weight_3, optimizer='adam',\n",
    "          model_dir=str(Path.home()), device=device, verbose=1)"
   ]
  },
  {
   "cell_type": "code",
   "execution_count": 110,
   "metadata": {
    "colab": {
     "base_uri": "https://localhost:8080/"
    },
    "id": "pdIKatim_5rU",
    "outputId": "e3ea5461-5f4a-4e6c-c9ba-8d17b976e9a1"
   },
   "outputs": [
    {
     "name": "stdout",
     "output_type": "stream",
     "text": [
      "Epoch #0\n",
      "Validation losses: 0.23509364 0.00085628574 0.0002645898 -2.0669708 -1.3824434 -1.3229094 0.00028707166 0.0008430716 0.23555477 -1.594071408646414\n",
      "Epoch #1\n",
      "Validation losses: 0.23501438 0.0008968842 0.00021251147 -2.0679421 -1.3705618 -1.2658304 0.00019870883 0.0009227988 0.23547791 -1.5952189549134346\n",
      "Epoch #2\n",
      "Validation losses: 0.23506232 0.0009056263 0.00017526893 -2.0637362 -1.422268 -1.2213322 0.00018660851 0.00093657203 0.23555389 -1.5909159128350439\n",
      "Epoch #3\n",
      "Validation losses: 0.23483448 0.0009652622 0.00023304067 -2.0668173 -1.3714325 -1.168101 0.00027003043 0.00090112584 0.23530799 -1.5943053518712986\n",
      "Epoch #4\n",
      "Validation losses: 0.23486628 0.0009486337 0.00022381938 -2.0644553 -1.396608 -1.1345406 0.00023383129 0.0011161263 0.23532195 -1.5917446297244169\n"
     ]
    },
    {
     "data": {
      "text/plain": [
       "<utils.riesznet.RieszNetRDERIE at 0x13be6c290>"
      ]
     },
     "execution_count": 110,
     "metadata": {},
     "output_type": "execute_result"
    }
   ],
   "source": [
    "# riesz_weight_1 = 0\n",
    "# riesz_weight_2 = 0.1\n",
    "\n",
    "# Fine tune\n",
    "agmm.fit(X_train, y_train, Xval=X_test, yval=y_test, Xval_supp = X_supp_test,\n",
    "          earlystop_rounds=2, earlystop_delta=earlystop_delta,\n",
    "          learner_lr=learner_lr, learner_l2=learner_l2, learner_l1=learner_l1,\n",
    "          n_epochs=100, bs=bs, target_reg_1=target_reg_1,\n",
    "          riesz_weight_1=riesz_weight_1, target_reg_2=target_reg_2,\n",
    "          riesz_weight_2=riesz_weight_2, target_reg_3=target_reg_3,\n",
    "          riesz_weight_3=riesz_weight_3, optimizer='adam', warm_start=True,\n",
    "          model_dir=str(Path.home()), device=device, verbose=1)"
   ]
  },
  {
   "cell_type": "code",
   "execution_count": 111,
   "metadata": {
    "colab": {
     "base_uri": "https://localhost:8080/"
    },
    "id": "VIWVuLP-6Lis",
    "outputId": "1c8cbbe7-8cc7-476a-bb8f-5bc7ac211bbe",
    "scrolled": true
   },
   "outputs": [
    {
     "name": "stdout",
     "output_type": "stream",
     "text": [
      "learner.common1.1.weight\n",
      "learner.common1.1.bias\n",
      "learner.common1.4.weight\n",
      "learner.common1.4.bias\n",
      "learner.common1.7.weight\n",
      "learner.common1.7.bias\n",
      "learner.riesz_nn1.1.weight\n",
      "learner.riesz_nn1.1.bias\n",
      "learner.riesz_poly1.0.weight\n",
      "learner.riesz_poly1.0.bias\n"
     ]
    }
   ],
   "source": [
    "# Freeze network parameters w.r.t. alpha1\n",
    "\n",
    "for name, param in agmm.learner.named_parameters():\n",
    "  if(\"riesz_nn1\" in name or \"riesz_poly1\" in name or \"common1\" in name):\n",
    "    print(name)\n",
    "    param.requires_grad = False"
   ]
  },
  {
   "cell_type": "code",
   "execution_count": 112,
   "metadata": {
    "colab": {
     "base_uri": "https://localhost:8080/"
    },
    "id": "3-FgOXXd8LSE",
    "outputId": "49552b71-0f97-4510-df96-376076b025c6"
   },
   "outputs": [
    {
     "name": "stdout",
     "output_type": "stream",
     "text": [
      "Epoch #0\n",
      "Validation losses: 0.23437999 0.0017093649 0.0003143017 -2.0679421 -2.257577 -1.1544385 0.0003391573 0.002143942 0.23429564 -1.7843945476925\n",
      "Epoch #1\n",
      "Validation losses: 0.23389314 0.0011985464 0.001122034 -2.0679421 -2.302374 -1.148068 0.0010755459 0.0014551767 0.23427056 -1.8293588918168098\n",
      "Epoch #2\n",
      "Validation losses: 0.23436174 0.0009655937 0.00029869706 -2.0679421 -2.3034914 -1.1403993 0.00030582355 0.0011958943 0.2345075 -1.831856108008651\n",
      "Epoch #3\n",
      "Validation losses: 0.23694251 0.001405185 0.00028772288 -2.0679421 -2.304655 -1.1703688 0.0003021882 0.0012965506 0.23764038 -1.8267805346113164\n",
      "Epoch #4\n",
      "Validation losses: 0.23982607 0.0020270078 0.001071279 -2.0679421 -2.305677 -1.1550964 0.0010661553 0.0017761121 0.24068286 -1.8192274669418111\n",
      "Epoch #5\n",
      "Validation losses: 0.2369436 0.0014322561 0.0003013058 -2.0679421 -2.3062382 -1.1894574 0.00030000033 0.0012719727 0.23770882 -1.8282802205940243\n"
     ]
    },
    {
     "data": {
      "text/plain": [
       "<utils.riesznet.RieszNetRDERIE at 0x13be6c290>"
      ]
     },
     "execution_count": 112,
     "metadata": {},
     "output_type": "execute_result"
    }
   ],
   "source": [
    "# Fast training\n",
    "riesz_weight_2 = 1\n",
    "riesz_weight_1 = 0\n",
    "\n",
    "agmm.fit(X_train, y_train, Xval=X_test, yval=y_test, Xval_supp = X_supp_test,\n",
    "          earlystop_rounds=2, earlystop_delta=earlystop_delta,\n",
    "          learner_lr=1e-4, learner_l2=learner_l2, learner_l1=learner_l1,\n",
    "          n_epochs=100, bs=bs, target_reg_1=target_reg_1,\n",
    "          riesz_weight_1=riesz_weight_1, target_reg_2=target_reg_2,\n",
    "          riesz_weight_2=riesz_weight_2, target_reg_3=target_reg_3,\n",
    "          riesz_weight_3=riesz_weight_3, optimizer='adam',\n",
    "          model_dir=str(Path.home()), device=device, verbose=1, warm_start=True)"
   ]
  },
  {
   "cell_type": "code",
   "execution_count": 113,
   "metadata": {
    "colab": {
     "base_uri": "https://localhost:8080/"
    },
    "id": "1lrE5Q-uKiW_",
    "outputId": "1ff52c6e-a7a1-4a72-843d-4f82864ac775"
   },
   "outputs": [
    {
     "name": "stdout",
     "output_type": "stream",
     "text": [
      "Epoch #0\n",
      "Validation losses: 0.2359726 0.0010469753 0.0002014115 -2.0679421 -2.3042192 -1.1539469 0.00020202543 0.0009494382 0.23653162 -1.8293151942489203\n",
      "Epoch #1\n",
      "Validation losses: 0.23566282 0.0010992517 0.0001840712 -2.0679421 -2.304861 -1.1505969 0.00018484154 0.001347396 0.23616205 -1.8302206289081369\n",
      "Epoch #2\n",
      "Validation losses: 0.23520973 0.0009241642 0.00026203424 -2.0679421 -2.3054032 -1.1445546 0.00027170865 0.0010603181 0.23561804 -1.8320572256925516\n",
      "Epoch #3\n",
      "Validation losses: 0.23529169 0.00095204805 0.00026163526 -2.0679421 -2.305879 -1.1496103 0.00026083962 0.00093003706 0.23576446 -1.8324184062948916\n",
      "Epoch #4\n",
      "Validation losses: 0.23554064 0.00088497036 0.0002099609 -2.0679421 -2.306267 -1.1401333 0.00021360819 0.00093579496 0.23602325 -1.8324588069372112\n",
      "Epoch #5\n",
      "Validation losses: 0.235253 0.00095592707 0.00021417446 -2.0679421 -2.3066604 -1.1537496 0.00021525407 0.00096644694 0.23573923 -1.8333163766219513\n",
      "Epoch #6\n",
      "Validation losses: 0.23507053 0.0010079115 0.0002476618 -2.0679421 -2.3069477 -1.1431891 0.0002485023 0.0010671807 0.23554344 -1.8337624819832854\n",
      "Epoch #7\n",
      "Validation losses: 0.23514552 0.0009526768 0.00023061757 -2.0679421 -2.3072157 -1.1434646 0.00022783085 0.00095736346 0.23558897 -1.8341127180465264\n",
      "Epoch #8\n",
      "Validation losses: 0.23512977 0.0009291561 0.0002315697 -2.0679421 -2.3074386 -1.1439248 0.00022997509 0.0010033583 0.23556024 -1.8343545406823978\n",
      "Epoch #9\n",
      "Validation losses: 0.2351445 0.0009144476 0.00024207849 -2.0679421 -2.30766 -1.1544843 0.00024193915 0.00092076784 0.23560475 -1.8345916130347177\n",
      "Epoch #10\n",
      "Validation losses: 0.23482601 0.0009794309 0.00023062174 -2.0679421 -2.3077872 -1.1415734 0.00022988203 0.0010740762 0.23522444 -1.8352227188152028\n",
      "Epoch #11\n",
      "Validation losses: 0.23464121 0.0009554939 0.00030909892 -2.0679421 -2.3079455 -1.1480165 0.00031147487 0.0010871589 0.23498785 -1.8356532048492227\n",
      "Epoch #12\n",
      "Validation losses: 0.23477164 0.0009327246 0.00035430276 -2.0679421 -2.308029 -1.1433865 0.00035706762 0.0010044187 0.23511854 -1.8354902446153574\n",
      "Epoch #13\n",
      "Validation losses: 0.23521397 0.0008947926 0.00023830068 -2.0679421 -2.3081481 -1.1555101 0.00023939293 0.0009662079 0.23566838 -1.8349271043989575\n",
      "Epoch #14\n",
      "Validation losses: 0.23467338 0.00091301696 0.00028028726 -2.0679421 -2.3081005 -1.1733785 0.00028036546 0.00096858776 0.23503748 -1.8359473372693174\n",
      "Epoch #15\n",
      "Validation losses: 0.23473898 0.0009432933 0.00026319045 -2.0679421 -2.3082404 -1.1666543 0.0002639343 0.00095786544 0.23513468 -1.8359384895593394\n",
      "Epoch #16\n",
      "Validation losses: 0.23497765 0.00092771114 0.000224999 -2.0679421 -2.3083045 -1.141287 0.00022539741 0.0010206394 0.23538345 -1.8355447036447003\n",
      "Epoch #17\n",
      "Validation losses: 0.2349981 0.00095144083 0.00022995513 -2.0679421 -2.3083558 -1.1604226 0.0002300344 0.0009793265 0.23541051 -1.8355564349913038\n"
     ]
    },
    {
     "data": {
      "text/plain": [
       "<utils.riesznet.RieszNetRDERIE at 0x13be6c290>"
      ]
     },
     "execution_count": 113,
     "metadata": {},
     "output_type": "execute_result"
    }
   ],
   "source": [
    "# riesz_weight_1 = 0\n",
    "# riesz_weight_2 = 0.1\n",
    "\n",
    "# Fine tune\n",
    "agmm.fit(X_train, y_train, Xval=X_test, yval=y_test, Xval_supp = X_supp_test,\n",
    "          earlystop_rounds=2, earlystop_delta=earlystop_delta,\n",
    "          learner_lr=1e-05, learner_l2=learner_l2, learner_l1=learner_l1,\n",
    "          n_epochs=100, bs=bs, target_reg_1=target_reg_1,\n",
    "          riesz_weight_1=riesz_weight_1, target_reg_2=target_reg_2,\n",
    "          riesz_weight_2=riesz_weight_2, target_reg_3=target_reg_3,\n",
    "          riesz_weight_3=riesz_weight_3, optimizer='adam', warm_start=True,\n",
    "          model_dir=str(Path.home()), device=device, verbose=1)"
   ]
  },
  {
   "cell_type": "code",
   "execution_count": 114,
   "metadata": {},
   "outputs": [
    {
     "name": "stdout",
     "output_type": "stream",
     "text": [
      "learner.common2.1.weight\n",
      "learner.common2.1.bias\n",
      "learner.common2.4.weight\n",
      "learner.common2.4.bias\n",
      "learner.common2.7.weight\n",
      "learner.common2.7.bias\n",
      "learner.riesz_nn2.1.weight\n",
      "learner.riesz_nn2.1.bias\n",
      "learner.riesz_poly2.0.weight\n",
      "learner.riesz_poly2.0.bias\n"
     ]
    }
   ],
   "source": [
    "# Freeze network parameters w.r.t. alpha1\n",
    "\n",
    "for name, param in agmm.learner.named_parameters():\n",
    "    if(\"riesz_nn2\" in name or \"riesz_poly2\" in name or \"common2\" in name):\n",
    "        print(name)\n",
    "        param.requires_grad = False"
   ]
  },
  {
   "cell_type": "code",
   "execution_count": 115,
   "metadata": {},
   "outputs": [
    {
     "name": "stdout",
     "output_type": "stream",
     "text": [
      "Epoch #0\n",
      "Validation losses: 0.24257287 0.0009952494 0.0003053945 -2.0679421 -2.3081005 -2.0292478 0.0003055451 0.0011779157 0.24306522 -1.5408255551592447\n",
      "Epoch #1\n",
      "Validation losses: 0.23780447 0.0024561833 0.0010049659 -2.0679421 -2.3081005 -2.371417 0.0010121082 0.0025593666 0.23798767 -1.8885922787012532\n",
      "Epoch #2\n",
      "Validation losses: 0.23644577 0.00081163854 0.00023708712 -2.0679421 -2.3081005 -2.3788242 0.00023672263 0.0007940746 0.23654665 -1.9037522877479205\n",
      "Epoch #3\n",
      "Validation losses: 0.23353039 0.0016229722 0.0003007892 -2.0679421 -2.3081005 -2.3817704 0.00031186242 0.0015889788 0.23349625 -1.9109191254538018\n",
      "Epoch #4\n",
      "Validation losses: 0.23646697 0.0014934955 0.0004885808 -2.0679421 -2.3081005 -2.3846066 0.0004924237 0.0014691567 0.23672792 -1.9074680442572571\n",
      "Epoch #5\n",
      "Validation losses: 0.23653805 0.0021376046 0.00045196695 -2.0679421 -2.3081005 -2.3862772 0.00044835004 0.0022113798 0.23623765 -1.9082522027310915\n",
      "Epoch #6\n",
      "Validation losses: 0.2380837 0.0009769424 0.00023080155 -2.0679421 -2.3081005 -2.3833094 0.00023198532 0.0009899167 0.23862034 -1.9041756770166103\n"
     ]
    },
    {
     "data": {
      "text/plain": [
       "<utils.riesznet.RieszNetRDERIE at 0x13be6c290>"
      ]
     },
     "execution_count": 115,
     "metadata": {},
     "output_type": "execute_result"
    }
   ],
   "source": [
    "# Fast training\n",
    "riesz_weight_2 = 0\n",
    "riesz_weight_3 = 1\n",
    "\n",
    "agmm.fit(X_train, y_train, Xval=X_test, yval=y_test, Xval_supp = X_supp_test,\n",
    "          earlystop_rounds=2, earlystop_delta=earlystop_delta,\n",
    "          learner_lr=1e-4, learner_l2=learner_l2, learner_l1=learner_l1,\n",
    "          n_epochs=100, bs=bs, target_reg_1=target_reg_1,\n",
    "          riesz_weight_1=riesz_weight_1, target_reg_2=target_reg_2,\n",
    "          riesz_weight_2=riesz_weight_2, target_reg_3=target_reg_3,\n",
    "          riesz_weight_3=riesz_weight_3, optimizer='adam',\n",
    "          model_dir=str(Path.home()), device=device, verbose=1, warm_start=True)"
   ]
  },
  {
   "cell_type": "code",
   "execution_count": 116,
   "metadata": {},
   "outputs": [],
   "source": [
    "# # riesz_weight_1 = 0\n",
    "# # riesz_weight_2 = 0.1\n",
    "\n",
    "# # Fine tune\n",
    "# agmm.fit(X_train, y_train, Xval=X_test, yval=y_test, Xval_supp = X_supp_test,\n",
    "#           earlystop_rounds=10, earlystop_delta=earlystop_delta,\n",
    "#           learner_lr=1e-05, learner_l2=learner_l2, learner_l1=learner_l1,\n",
    "#           n_epochs=100, bs=bs, target_reg_1=target_reg_1,\n",
    "#           riesz_weight_1=riesz_weight_1, target_reg_2=target_reg_2,\n",
    "#           riesz_weight_2=riesz_weight_2, target_reg_3=target_reg_3,\n",
    "#           riesz_weight_3=riesz_weight_3, optimizer='adam', warm_start=True,\n",
    "#           model_dir=str(Path.home()), device=device, verbose=1)"
   ]
  },
  {
   "cell_type": "markdown",
   "metadata": {
    "id": "2wJLxRtZKF9M"
   },
   "source": [
    "# Task 1: See whether the estimators alpha1 and alpha2 are consistent with true values."
   ]
  },
  {
   "cell_type": "code",
   "execution_count": 117,
   "metadata": {
    "id": "tSRruLAAZgMA"
   },
   "outputs": [],
   "source": [
    "methods = ['dr', 'direct', 'ips', 'test']\n",
    "srr = {'dr' : True, 'direct' : False, 'ips' : True, 'test': True}"
   ]
  },
  {
   "cell_type": "code",
   "execution_count": 118,
   "metadata": {
    "id": "X4Axz6FiKSXP"
   },
   "outputs": [],
   "source": [
    "import pandas as pd"
   ]
  },
  {
   "cell_type": "code",
   "execution_count": 119,
   "metadata": {
    "id": "Tda8G1khJ_ft"
   },
   "outputs": [],
   "source": [
    "alpha_results = pd.DataFrame(data={\"alpha1\": agmm.predict(X)[:,1], \"alpha2\": agmm.predict(X)[:,3], \"alpha3\": agmm.predict(X)[:,5]})"
   ]
  },
  {
   "cell_type": "code",
   "execution_count": 120,
   "metadata": {
    "colab": {
     "base_uri": "https://localhost:8080/",
     "height": 424
    },
    "id": "OOWV2Rpn5hqZ",
    "outputId": "b04721b1-86f3-448f-87b2-686c2202c402"
   },
   "outputs": [
    {
     "data": {
      "text/html": [
       "<div>\n",
       "<style scoped>\n",
       "    .dataframe tbody tr th:only-of-type {\n",
       "        vertical-align: middle;\n",
       "    }\n",
       "\n",
       "    .dataframe tbody tr th {\n",
       "        vertical-align: top;\n",
       "    }\n",
       "\n",
       "    .dataframe thead th {\n",
       "        text-align: right;\n",
       "    }\n",
       "</style>\n",
       "<table border=\"1\" class=\"dataframe\">\n",
       "  <thead>\n",
       "    <tr style=\"text-align: right;\">\n",
       "      <th></th>\n",
       "      <th>alpha1</th>\n",
       "      <th>alpha2</th>\n",
       "      <th>alpha3</th>\n",
       "    </tr>\n",
       "  </thead>\n",
       "  <tbody>\n",
       "    <tr>\n",
       "      <th>0</th>\n",
       "      <td>-0.057211</td>\n",
       "      <td>-0.008415</td>\n",
       "      <td>-0.101419</td>\n",
       "    </tr>\n",
       "    <tr>\n",
       "      <th>1</th>\n",
       "      <td>-0.057211</td>\n",
       "      <td>-0.018224</td>\n",
       "      <td>-0.090568</td>\n",
       "    </tr>\n",
       "    <tr>\n",
       "      <th>2</th>\n",
       "      <td>-0.057211</td>\n",
       "      <td>-0.018224</td>\n",
       "      <td>-0.006973</td>\n",
       "    </tr>\n",
       "    <tr>\n",
       "      <th>3</th>\n",
       "      <td>0.057557</td>\n",
       "      <td>0.023950</td>\n",
       "      <td>-0.025191</td>\n",
       "    </tr>\n",
       "    <tr>\n",
       "      <th>4</th>\n",
       "      <td>0.057557</td>\n",
       "      <td>0.019582</td>\n",
       "      <td>0.101540</td>\n",
       "    </tr>\n",
       "    <tr>\n",
       "      <th>...</th>\n",
       "      <td>...</td>\n",
       "      <td>...</td>\n",
       "      <td>...</td>\n",
       "    </tr>\n",
       "    <tr>\n",
       "      <th>1995</th>\n",
       "      <td>-0.057212</td>\n",
       "      <td>-0.018224</td>\n",
       "      <td>-0.090568</td>\n",
       "    </tr>\n",
       "    <tr>\n",
       "      <th>1996</th>\n",
       "      <td>0.057557</td>\n",
       "      <td>0.019582</td>\n",
       "      <td>0.101540</td>\n",
       "    </tr>\n",
       "    <tr>\n",
       "      <th>1997</th>\n",
       "      <td>2.285810</td>\n",
       "      <td>2.345643</td>\n",
       "      <td>2.176990</td>\n",
       "    </tr>\n",
       "    <tr>\n",
       "      <th>1998</th>\n",
       "      <td>0.057557</td>\n",
       "      <td>0.019582</td>\n",
       "      <td>0.041414</td>\n",
       "    </tr>\n",
       "    <tr>\n",
       "      <th>1999</th>\n",
       "      <td>2.285810</td>\n",
       "      <td>2.372340</td>\n",
       "      <td>2.371408</td>\n",
       "    </tr>\n",
       "  </tbody>\n",
       "</table>\n",
       "<p>2000 rows × 3 columns</p>\n",
       "</div>"
      ],
      "text/plain": [
       "        alpha1    alpha2    alpha3\n",
       "0    -0.057211 -0.008415 -0.101419\n",
       "1    -0.057211 -0.018224 -0.090568\n",
       "2    -0.057211 -0.018224 -0.006973\n",
       "3     0.057557  0.023950 -0.025191\n",
       "4     0.057557  0.019582  0.101540\n",
       "...        ...       ...       ...\n",
       "1995 -0.057212 -0.018224 -0.090568\n",
       "1996  0.057557  0.019582  0.101540\n",
       "1997  2.285810  2.345643  2.176990\n",
       "1998  0.057557  0.019582  0.041414\n",
       "1999  2.285810  2.372340  2.371408\n",
       "\n",
       "[2000 rows x 3 columns]"
      ]
     },
     "execution_count": 120,
     "metadata": {},
     "output_type": "execute_result"
    }
   ],
   "source": [
    "alpha_results"
   ]
  },
  {
   "cell_type": "code",
   "execution_count": 35,
   "metadata": {
    "colab": {
     "base_uri": "https://localhost:8080/"
    },
    "id": "04vI9GtgYz2W",
    "outputId": "c76dbbd6-5237-47a1-9d57-8e4c678f2b1c"
   },
   "outputs": [
    {
     "data": {
      "text/plain": [
       "(0.3120565523400965, 0.2575672797490606, 0.3665458249311324)"
      ]
     },
     "execution_count": 35,
     "metadata": {},
     "output_type": "execute_result"
    }
   ],
   "source": [
    "agmm.predict_avg_moment(X, Y,  model='earlystop', method = \"test\", srr = srr[\"test\"])"
   ]
  }
 ],
 "metadata": {
  "accelerator": "GPU",
  "colab": {
   "gpuType": "T4",
   "provenance": []
  },
  "kernelspec": {
   "display_name": "Python 3 (ipykernel)",
   "language": "python",
   "name": "python3"
  },
  "language_info": {
   "codemirror_mode": {
    "name": "ipython",
    "version": 3
   },
   "file_extension": ".py",
   "mimetype": "text/x-python",
   "name": "python",
   "nbconvert_exporter": "python",
   "pygments_lexer": "ipython3",
   "version": "3.11.5"
  }
 },
 "nbformat": 4,
 "nbformat_minor": 1
}
